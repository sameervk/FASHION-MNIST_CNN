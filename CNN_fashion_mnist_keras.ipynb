{
  "nbformat": 4,
  "nbformat_minor": 0,
  "metadata": {
    "colab": {
      "name": "CNN_fashion-mnist-keras.ipynb",
      "version": "0.3.2",
      "provenance": []
    },
    "kernelspec": {
      "name": "python3",
      "display_name": "Python 3"
    },
    "accelerator": "GPU"
  },
  "cells": [
    {
      "metadata": {
        "id": "yvx9D2vou3nL",
        "colab_type": "text"
      },
      "cell_type": "markdown",
      "source": [
        "## CNN model for Fashion MNIST dataset using Keras\n",
        "        * Author: @Sameer Kesava\n",
        "                         \n",
        "                         * 2 Convolutional layers and 2 Dense Layers\n",
        "                         \n",
        "                         * Batch size = 64\n",
        "                         \n",
        "                         * Adam Optimizer with learning rate = 0.001\n",
        "                         \n",
        "                         * Dropout probability: 0.5\n",
        "                         \n",
        "                         * Epochs = 20\n",
        "                         \n",
        "                         * Training accuracy: 90.0% \n",
        "                         \n",
        "                         * Test accuracy 90.1% indicating neither over nor underfitting of the training data\n",
        "    "
      ]
    },
    {
      "metadata": {
        "id": "sj_wDOGPXI3W",
        "colab_type": "code",
        "outputId": "245cfaa1-8996-44a9-b81e-881142eaab16",
        "colab": {
          "base_uri": "https://localhost:8080/",
          "height": 141
        }
      },
      "cell_type": "code",
      "source": [
        "from __future__ import division, print_function\n",
        "\n",
        "import tensorflow_datasets as tfds\n",
        "import tensorflow as tf"
      ],
      "execution_count": 1,
      "outputs": [
        {
          "output_type": "stream",
          "text": [
            "\n",
            "WARNING: The TensorFlow contrib module will not be included in TensorFlow 2.0.\n",
            "For more information, please see:\n",
            "  * https://github.com/tensorflow/community/blob/master/rfcs/20180907-contrib-sunset.md\n",
            "  * https://github.com/tensorflow/addons\n",
            "If you depend on functionality not listed there, please file an issue.\n",
            "\n"
          ],
          "name": "stdout"
        }
      ]
    },
    {
      "metadata": {
        "id": "FunOyl7fXu65",
        "colab_type": "code",
        "colab": {}
      },
      "cell_type": "code",
      "source": [
        "tf.logging.set_verbosity(tf.logging.ERROR)"
      ],
      "execution_count": 0,
      "outputs": []
    },
    {
      "metadata": {
        "id": "F_Wx2kYGYBMA",
        "colab_type": "code",
        "colab": {}
      },
      "cell_type": "code",
      "source": [
        "from tensorflow.keras.datasets import fashion_mnist"
      ],
      "execution_count": 0,
      "outputs": []
    },
    {
      "metadata": {
        "id": "BaYTe185YS_S",
        "colab_type": "code",
        "outputId": "d26f2558-ca75-4d19-b098-2a7d12eed849",
        "colab": {
          "base_uri": "https://localhost:8080/",
          "height": 158
        }
      },
      "cell_type": "code",
      "source": [
        "dataset = fashion_mnist.load_data()"
      ],
      "execution_count": 4,
      "outputs": [
        {
          "output_type": "stream",
          "text": [
            "Downloading data from https://storage.googleapis.com/tensorflow/tf-keras-datasets/train-labels-idx1-ubyte.gz\n",
            "32768/29515 [=================================] - 0s 0us/step\n",
            "Downloading data from https://storage.googleapis.com/tensorflow/tf-keras-datasets/train-images-idx3-ubyte.gz\n",
            "26427392/26421880 [==============================] - 0s 0us/step\n",
            "Downloading data from https://storage.googleapis.com/tensorflow/tf-keras-datasets/t10k-labels-idx1-ubyte.gz\n",
            "8192/5148 [===============================================] - 0s 0us/step\n",
            "Downloading data from https://storage.googleapis.com/tensorflow/tf-keras-datasets/t10k-images-idx3-ubyte.gz\n",
            "4423680/4422102 [==============================] - 0s 0us/step\n"
          ],
          "name": "stdout"
        }
      ]
    },
    {
      "metadata": {
        "id": "Lr05UcSnYXtq",
        "colab_type": "code",
        "outputId": "3ee77e0e-724f-4766-f9f9-fd189ce62168",
        "colab": {
          "base_uri": "https://localhost:8080/",
          "height": 35
        }
      },
      "cell_type": "code",
      "source": [
        "len(dataset)"
      ],
      "execution_count": 5,
      "outputs": [
        {
          "output_type": "execute_result",
          "data": {
            "text/plain": [
              "2"
            ]
          },
          "metadata": {
            "tags": []
          },
          "execution_count": 5
        }
      ]
    },
    {
      "metadata": {
        "id": "ob-5obDYYar6",
        "colab_type": "code",
        "outputId": "d0bab7c6-80d4-4e20-896d-d2e6b7eac689",
        "colab": {
          "base_uri": "https://localhost:8080/",
          "height": 35
        }
      },
      "cell_type": "code",
      "source": [
        "len(dataset[0])"
      ],
      "execution_count": 6,
      "outputs": [
        {
          "output_type": "execute_result",
          "data": {
            "text/plain": [
              "2"
            ]
          },
          "metadata": {
            "tags": []
          },
          "execution_count": 6
        }
      ]
    },
    {
      "metadata": {
        "id": "xPLJTD3vYiHb",
        "colab_type": "code",
        "outputId": "3c9d2f38-060a-47c5-e361-e23f6c65208f",
        "colab": {
          "base_uri": "https://localhost:8080/",
          "height": 35
        }
      },
      "cell_type": "code",
      "source": [
        "len(dataset[0][0])"
      ],
      "execution_count": 7,
      "outputs": [
        {
          "output_type": "execute_result",
          "data": {
            "text/plain": [
              "60000"
            ]
          },
          "metadata": {
            "tags": []
          },
          "execution_count": 7
        }
      ]
    },
    {
      "metadata": {
        "id": "aGCmBubVYkhD",
        "colab_type": "code",
        "outputId": "f95a780c-321d-4879-e97b-0072dc318315",
        "colab": {
          "base_uri": "https://localhost:8080/",
          "height": 35
        }
      },
      "cell_type": "code",
      "source": [
        "x_train = dataset[0][0]\n",
        "y_train = dataset[0][1]\n",
        "print(x_train.shape, y_train.shape)"
      ],
      "execution_count": 8,
      "outputs": [
        {
          "output_type": "stream",
          "text": [
            "(60000, 28, 28) (60000,)\n"
          ],
          "name": "stdout"
        }
      ]
    },
    {
      "metadata": {
        "id": "KHEhCYuoYs1v",
        "colab_type": "code",
        "outputId": "d3671030-2c95-4430-ea54-557857b46f65",
        "colab": {
          "base_uri": "https://localhost:8080/",
          "height": 35
        }
      },
      "cell_type": "code",
      "source": [
        "x_test = dataset[1][0]\n",
        "y_test = dataset[1][1]\n",
        "print(x_test.shape, y_test.shape)"
      ],
      "execution_count": 9,
      "outputs": [
        {
          "output_type": "stream",
          "text": [
            "(10000, 28, 28) (10000,)\n"
          ],
          "name": "stdout"
        }
      ]
    },
    {
      "metadata": {
        "id": "z05jfz0EY2Sf",
        "colab_type": "code",
        "colab": {}
      },
      "cell_type": "code",
      "source": [
        ""
      ],
      "execution_count": 0,
      "outputs": []
    },
    {
      "metadata": {
        "id": "BmvG6wzzZkEo",
        "colab_type": "text"
      },
      "cell_type": "markdown",
      "source": [
        "## Scaling"
      ]
    },
    {
      "metadata": {
        "id": "cIaitnmUZxCw",
        "colab_type": "code",
        "colab": {}
      },
      "cell_type": "code",
      "source": [
        "import numpy as np"
      ],
      "execution_count": 0,
      "outputs": []
    },
    {
      "metadata": {
        "id": "p8-v1dVdZvpJ",
        "colab_type": "code",
        "outputId": "eace641c-617a-46c9-84a5-6d048ce7e3c0",
        "colab": {
          "base_uri": "https://localhost:8080/",
          "height": 35
        }
      },
      "cell_type": "code",
      "source": [
        "std_pix = np.std(x_train)\n",
        "std_pix"
      ],
      "execution_count": 11,
      "outputs": [
        {
          "output_type": "execute_result",
          "data": {
            "text/plain": [
              "90.02118235130519"
            ]
          },
          "metadata": {
            "tags": []
          },
          "execution_count": 11
        }
      ]
    },
    {
      "metadata": {
        "id": "HKNlowt2Z5Xi",
        "colab_type": "code",
        "outputId": "f267d440-abe8-4a47-f98a-6f90b5873a20",
        "colab": {
          "base_uri": "https://localhost:8080/",
          "height": 35
        }
      },
      "cell_type": "code",
      "source": [
        "x_train = x_train.reshape(-1, 784)\n",
        "x_train.shape"
      ],
      "execution_count": 12,
      "outputs": [
        {
          "output_type": "execute_result",
          "data": {
            "text/plain": [
              "(60000, 784)"
            ]
          },
          "metadata": {
            "tags": []
          },
          "execution_count": 12
        }
      ]
    },
    {
      "metadata": {
        "id": "XqvTrVZhbTkW",
        "colab_type": "code",
        "outputId": "02153ad2-2f9a-4c7f-e1ae-8ef6625e438c",
        "colab": {
          "base_uri": "https://localhost:8080/",
          "height": 35
        }
      },
      "cell_type": "code",
      "source": [
        "x_test = x_test.reshape(-1, 784)\n",
        "x_test.shape"
      ],
      "execution_count": 13,
      "outputs": [
        {
          "output_type": "execute_result",
          "data": {
            "text/plain": [
              "(10000, 784)"
            ]
          },
          "metadata": {
            "tags": []
          },
          "execution_count": 13
        }
      ]
    },
    {
      "metadata": {
        "id": "_4xI4wEraUA9",
        "colab_type": "code",
        "outputId": "813442d2-85d6-4452-99c2-d71dea7f4f3f",
        "colab": {
          "base_uri": "https://localhost:8080/",
          "height": 35
        }
      },
      "cell_type": "code",
      "source": [
        "mean_pix = np.mean(x_train, axis = 0)\n",
        "mean_pix.shape"
      ],
      "execution_count": 14,
      "outputs": [
        {
          "output_type": "execute_result",
          "data": {
            "text/plain": [
              "(784,)"
            ]
          },
          "metadata": {
            "tags": []
          },
          "execution_count": 14
        }
      ]
    },
    {
      "metadata": {
        "id": "yVEM4V-EaeI2",
        "colab_type": "code",
        "outputId": "c2f38bb5-8ea1-4f04-8b26-50702dc84ae9",
        "colab": {
          "base_uri": "https://localhost:8080/",
          "height": 35
        }
      },
      "cell_type": "code",
      "source": [
        "std_pix_col = np.std(x_train, axis = 0)\n",
        "print(np.min(std_pix_col))"
      ],
      "execution_count": 15,
      "outputs": [
        {
          "output_type": "stream",
          "text": [
            "0.09255283175929792\n"
          ],
          "name": "stdout"
        }
      ]
    },
    {
      "metadata": {
        "id": "NKwvkliFbD7J",
        "colab_type": "code",
        "colab": {}
      },
      "cell_type": "code",
      "source": [
        "x_train_scaled =  (x_train - mean_pix)/std_pix\n",
        "x_test_scaled = (x_test - mean_pix)/std_pix"
      ],
      "execution_count": 0,
      "outputs": []
    },
    {
      "metadata": {
        "id": "lfnu4wrxbZjD",
        "colab_type": "code",
        "outputId": "fe00b091-ca0c-456f-adf8-f2db348949f5",
        "colab": {
          "base_uri": "https://localhost:8080/",
          "height": 35
        }
      },
      "cell_type": "code",
      "source": [
        "print('min and max scaled values: {} {}'.format(np.min(x_train_scaled),np.max(x_train_scaled)))"
      ],
      "execution_count": 17,
      "outputs": [
        {
          "output_type": "stream",
          "text": [
            "min and max scaled values: -1.7982032573357591 2.8317651839451097\n"
          ],
          "name": "stdout"
        }
      ]
    },
    {
      "metadata": {
        "id": "uFaVFy_WcFdn",
        "colab_type": "code",
        "colab": {}
      },
      "cell_type": "code",
      "source": [
        ""
      ],
      "execution_count": 0,
      "outputs": []
    },
    {
      "metadata": {
        "id": "rGvkC_3gmlHV",
        "colab_type": "text"
      },
      "cell_type": "markdown",
      "source": [
        "#### Reshaping"
      ]
    },
    {
      "metadata": {
        "id": "Owf2gEx4moz-",
        "colab_type": "code",
        "colab": {}
      },
      "cell_type": "code",
      "source": [
        "x_train_scaled = x_train_scaled.reshape(-1, 28, 28, 1)\n",
        "x_test_scaled = x_test_scaled.reshape(-1, 28, 28, 1)"
      ],
      "execution_count": 0,
      "outputs": []
    },
    {
      "metadata": {
        "id": "CqGQ0_fVm_jn",
        "colab_type": "code",
        "colab": {
          "base_uri": "https://localhost:8080/",
          "height": 35
        },
        "outputId": "3da272e1-6f37-4569-f19f-5da669a46a8d"
      },
      "cell_type": "code",
      "source": [
        "x_train_scaled.shape"
      ],
      "execution_count": 19,
      "outputs": [
        {
          "output_type": "execute_result",
          "data": {
            "text/plain": [
              "(60000, 28, 28, 1)"
            ]
          },
          "metadata": {
            "tags": []
          },
          "execution_count": 19
        }
      ]
    },
    {
      "metadata": {
        "id": "sinhc_HxcvOI",
        "colab_type": "text"
      },
      "cell_type": "markdown",
      "source": [
        "## One-hot encoding y values"
      ]
    },
    {
      "metadata": {
        "id": "4Dn_nQSpbloc",
        "colab_type": "code",
        "outputId": "cb49f720-face-4bd9-c558-6efef2e976ec",
        "colab": {
          "base_uri": "https://localhost:8080/",
          "height": 35
        }
      },
      "cell_type": "code",
      "source": [
        "y_unique = np.unique(y_train)\n",
        "y_unique"
      ],
      "execution_count": 20,
      "outputs": [
        {
          "output_type": "execute_result",
          "data": {
            "text/plain": [
              "array([0, 1, 2, 3, 4, 5, 6, 7, 8, 9], dtype=uint8)"
            ]
          },
          "metadata": {
            "tags": []
          },
          "execution_count": 20
        }
      ]
    },
    {
      "metadata": {
        "id": "9RJEiNE9cuO1",
        "colab_type": "code",
        "colab": {
          "base_uri": "https://localhost:8080/",
          "height": 35
        },
        "outputId": "ad299023-30fd-42c2-820a-4039769e3455"
      },
      "cell_type": "code",
      "source": [
        "from keras.utils import to_categorical"
      ],
      "execution_count": 21,
      "outputs": [
        {
          "output_type": "stream",
          "text": [
            "Using TensorFlow backend.\n"
          ],
          "name": "stderr"
        }
      ]
    },
    {
      "metadata": {
        "id": "CRBPyhL2gCy8",
        "colab_type": "code",
        "outputId": "89629591-be8a-45d1-ca2b-c79efd080b76",
        "colab": {
          "base_uri": "https://localhost:8080/",
          "height": 35
        }
      },
      "cell_type": "code",
      "source": [
        "y_onehot = to_categorical(y_train)\n",
        "y_onehot.shape"
      ],
      "execution_count": 22,
      "outputs": [
        {
          "output_type": "execute_result",
          "data": {
            "text/plain": [
              "(60000, 10)"
            ]
          },
          "metadata": {
            "tags": []
          },
          "execution_count": 22
        }
      ]
    },
    {
      "metadata": {
        "id": "BEksHOeYl_rW",
        "colab_type": "code",
        "outputId": "c189224f-ff71-4ba2-c8da-f51a208212a0",
        "colab": {
          "base_uri": "https://localhost:8080/",
          "height": 35
        }
      },
      "cell_type": "code",
      "source": [
        "y_test_onehot = to_categorical(y_test)\n",
        "y_test_onehot.shape"
      ],
      "execution_count": 23,
      "outputs": [
        {
          "output_type": "execute_result",
          "data": {
            "text/plain": [
              "(10000, 10)"
            ]
          },
          "metadata": {
            "tags": []
          },
          "execution_count": 23
        }
      ]
    },
    {
      "metadata": {
        "id": "sdOwUr_-cMlm",
        "colab_type": "text"
      },
      "cell_type": "markdown",
      "source": [
        "## Creating a validation dataset. Can shuffle before splitting"
      ]
    },
    {
      "metadata": {
        "id": "JjJcknNscOEg",
        "colab_type": "code",
        "colab": {}
      },
      "cell_type": "code",
      "source": [
        "x_valid_scaled, x_train_scaled = x_train_scaled[:10000], x_train_scaled[10000:]\n",
        "y_valid_onehot, y_train_onehot = y_onehot[:10000], y_onehot[10000:]"
      ],
      "execution_count": 0,
      "outputs": []
    },
    {
      "metadata": {
        "id": "u8T-Qy5HgXNG",
        "colab_type": "code",
        "outputId": "1881c0f1-9101-4ac2-b866-bdeab5b63db3",
        "colab": {
          "base_uri": "https://localhost:8080/",
          "height": 35
        }
      },
      "cell_type": "code",
      "source": [
        "y_train_onehot.shape"
      ],
      "execution_count": 25,
      "outputs": [
        {
          "output_type": "execute_result",
          "data": {
            "text/plain": [
              "(50000, 10)"
            ]
          },
          "metadata": {
            "tags": []
          },
          "execution_count": 25
        }
      ]
    },
    {
      "metadata": {
        "id": "7AyVKHujgZh_",
        "colab_type": "code",
        "outputId": "1e067a96-cbb9-4381-a85b-3887e6954637",
        "colab": {
          "base_uri": "https://localhost:8080/",
          "height": 35
        }
      },
      "cell_type": "code",
      "source": [
        "x_train_scaled.shape"
      ],
      "execution_count": 26,
      "outputs": [
        {
          "output_type": "execute_result",
          "data": {
            "text/plain": [
              "(50000, 28, 28, 1)"
            ]
          },
          "metadata": {
            "tags": []
          },
          "execution_count": 26
        }
      ]
    },
    {
      "metadata": {
        "id": "J1IqNqNUgc1c",
        "colab_type": "text"
      },
      "cell_type": "markdown",
      "source": [
        "## Building a CNN"
      ]
    },
    {
      "metadata": {
        "id": "b2VTBb3rlzYc",
        "colab_type": "code",
        "colab": {}
      },
      "cell_type": "code",
      "source": [
        ""
      ],
      "execution_count": 0,
      "outputs": []
    },
    {
      "metadata": {
        "id": "cPEoQWV2giM3",
        "colab_type": "code",
        "colab": {}
      },
      "cell_type": "code",
      "source": [
        "model = tf.keras.Sequential([\n",
        "    tf.keras.layers.Conv2D(filters = 32, kernel_size = (3,3), strides = (2,2), padding = 'same', activation = tf.nn.relu, input_shape = (28,28,1)),\n",
        "    tf.keras.layers.MaxPooling2D(pool_size = (2,2), strides=(2,2), padding = 'same'),\n",
        "    tf.keras.layers.Conv2D(filters = 64, kernel_size = (3,3), strides = (2,2), padding = 'same', activation = tf.nn.relu),\n",
        "    tf.keras.layers.AveragePooling2D(pool_size = (2,2), strides=(2,2), padding = 'same'),\n",
        "    tf.keras.layers.Flatten(),\n",
        "    tf.keras.layers.Dropout(rate = 0.5),\n",
        "    tf.keras.layers.Dense(units = 512, activation = tf.nn.relu),    \n",
        "    tf.keras.layers.Dense(units = 10, activation = None)\n",
        "])"
      ],
      "execution_count": 0,
      "outputs": []
    },
    {
      "metadata": {
        "id": "G9getQQrptBq",
        "colab_type": "code",
        "colab": {}
      },
      "cell_type": "code",
      "source": [
        "model.compile(optimizer = tf.keras.optimizers.Adam(lr = 0.001), loss = tf.losses.softmax_cross_entropy, metrics = ['accuracy'])"
      ],
      "execution_count": 0,
      "outputs": []
    },
    {
      "metadata": {
        "id": "aCigpb5dqjvY",
        "colab_type": "code",
        "colab": {
          "base_uri": "https://localhost:8080/",
          "height": 760
        },
        "outputId": "fdb9e116-f916-4eb3-ce94-4083ddc1ab8d"
      },
      "cell_type": "code",
      "source": [
        "model.fit(x = x_train_scaled, y = y_train_onehot, batch_size = 64, epochs = 20, verbose = 1, validation_data = [x_valid_scaled, y_valid_onehot],\n",
        "         shuffle = True)"
      ],
      "execution_count": 33,
      "outputs": [
        {
          "output_type": "stream",
          "text": [
            "Train on 50000 samples, validate on 10000 samples\n",
            "Epoch 1/20\n",
            "50000/50000 [==============================] - 6s 111us/sample - loss: 0.7360 - acc: 0.7269 - val_loss: 0.4804 - val_acc: 0.8156\n",
            "Epoch 2/20\n",
            "50000/50000 [==============================] - 5s 106us/sample - loss: 0.5100 - acc: 0.8153 - val_loss: 0.3993 - val_acc: 0.8564\n",
            "Epoch 3/20\n",
            "50000/50000 [==============================] - 5s 109us/sample - loss: 0.4429 - acc: 0.8404 - val_loss: 0.3646 - val_acc: 0.8668\n",
            "Epoch 4/20\n",
            "50000/50000 [==============================] - 5s 106us/sample - loss: 0.4101 - acc: 0.8524 - val_loss: 0.3376 - val_acc: 0.8767\n",
            "Epoch 5/20\n",
            "50000/50000 [==============================] - 5s 106us/sample - loss: 0.3826 - acc: 0.8618 - val_loss: 0.3243 - val_acc: 0.8799\n",
            "Epoch 6/20\n",
            "50000/50000 [==============================] - 5s 106us/sample - loss: 0.3693 - acc: 0.8663 - val_loss: 0.3124 - val_acc: 0.8835\n",
            "Epoch 7/20\n",
            "50000/50000 [==============================] - 5s 107us/sample - loss: 0.3551 - acc: 0.8708 - val_loss: 0.2992 - val_acc: 0.8924\n",
            "Epoch 8/20\n",
            "50000/50000 [==============================] - 5s 107us/sample - loss: 0.3423 - acc: 0.8754 - val_loss: 0.2984 - val_acc: 0.8890\n",
            "Epoch 9/20\n",
            "50000/50000 [==============================] - 5s 107us/sample - loss: 0.3335 - acc: 0.8776 - val_loss: 0.2860 - val_acc: 0.8964\n",
            "Epoch 10/20\n",
            "50000/50000 [==============================] - 5s 106us/sample - loss: 0.3206 - acc: 0.8831 - val_loss: 0.2858 - val_acc: 0.8945\n",
            "Epoch 11/20\n",
            "50000/50000 [==============================] - 5s 106us/sample - loss: 0.3110 - acc: 0.8853 - val_loss: 0.2795 - val_acc: 0.8951\n",
            "Epoch 12/20\n",
            "50000/50000 [==============================] - 5s 106us/sample - loss: 0.3055 - acc: 0.8865 - val_loss: 0.2777 - val_acc: 0.8984\n",
            "Epoch 13/20\n",
            "50000/50000 [==============================] - 5s 106us/sample - loss: 0.2981 - acc: 0.8889 - val_loss: 0.2750 - val_acc: 0.8967\n",
            "Epoch 14/20\n",
            "50000/50000 [==============================] - 5s 106us/sample - loss: 0.2949 - acc: 0.8910 - val_loss: 0.2710 - val_acc: 0.9004\n",
            "Epoch 15/20\n",
            "50000/50000 [==============================] - 5s 106us/sample - loss: 0.2879 - acc: 0.8940 - val_loss: 0.2604 - val_acc: 0.9037\n",
            "Epoch 16/20\n",
            "50000/50000 [==============================] - 5s 106us/sample - loss: 0.2844 - acc: 0.8953 - val_loss: 0.2593 - val_acc: 0.9043\n",
            "Epoch 17/20\n",
            "50000/50000 [==============================] - 5s 107us/sample - loss: 0.2799 - acc: 0.8963 - val_loss: 0.2671 - val_acc: 0.8998\n",
            "Epoch 18/20\n",
            "50000/50000 [==============================] - 5s 106us/sample - loss: 0.2753 - acc: 0.8989 - val_loss: 0.2574 - val_acc: 0.9052\n",
            "Epoch 19/20\n",
            "50000/50000 [==============================] - 5s 106us/sample - loss: 0.2718 - acc: 0.8983 - val_loss: 0.2524 - val_acc: 0.9053\n",
            "Epoch 20/20\n",
            "50000/50000 [==============================] - 5s 106us/sample - loss: 0.2672 - acc: 0.9000 - val_loss: 0.2560 - val_acc: 0.9040\n"
          ],
          "name": "stdout"
        },
        {
          "output_type": "execute_result",
          "data": {
            "text/plain": [
              "<tensorflow.python.keras.callbacks.History at 0x7f0a48a60fd0>"
            ]
          },
          "metadata": {
            "tags": []
          },
          "execution_count": 33
        }
      ]
    },
    {
      "metadata": {
        "id": "_FuGNl__oPXj",
        "colab_type": "code",
        "colab": {}
      },
      "cell_type": "code",
      "source": [
        ""
      ],
      "execution_count": 0,
      "outputs": []
    },
    {
      "metadata": {
        "id": "8EtE7kgWoJiI",
        "colab_type": "text"
      },
      "cell_type": "markdown",
      "source": [
        "## Testing on test data"
      ]
    },
    {
      "metadata": {
        "id": "9LnJayb4juqP",
        "colab_type": "code",
        "outputId": "bde4400c-6334-4295-ed6b-b5c478dd3aa2",
        "colab": {
          "base_uri": "https://localhost:8080/",
          "height": 52
        }
      },
      "cell_type": "code",
      "source": [
        "test_loss, test_accuracy =  model.evaluate(x = x_test_scaled, y = y_test_onehot, batch_size=64)\n",
        "print(test_loss, test_accuracy)"
      ],
      "execution_count": 34,
      "outputs": [
        {
          "output_type": "stream",
          "text": [
            "10000/10000 [==============================] - 0s 48us/sample - loss: 0.2720 - acc: 0.9006\n",
            "0.2720232246160507 0.9006\n"
          ],
          "name": "stdout"
        }
      ]
    },
    {
      "metadata": {
        "id": "5BZNkcOKmcFP",
        "colab_type": "code",
        "outputId": "3bfc4363-7e85-4435-9871-6ae46d7023b3",
        "colab": {
          "base_uri": "https://localhost:8080/",
          "height": 35
        }
      },
      "cell_type": "code",
      "source": [
        "predictions =  model.predict(x = x_test_scaled)\n",
        "predictions.shape"
      ],
      "execution_count": 61,
      "outputs": [
        {
          "output_type": "execute_result",
          "data": {
            "text/plain": [
              "(10000, 10)"
            ]
          },
          "metadata": {
            "tags": []
          },
          "execution_count": 61
        }
      ]
    },
    {
      "metadata": {
        "id": "jeCqT5yYnVoN",
        "colab_type": "code",
        "outputId": "f59408c6-4731-4987-d9ae-82ebf9c70521",
        "colab": {
          "base_uri": "https://localhost:8080/",
          "height": 35
        }
      },
      "cell_type": "code",
      "source": [
        "predicted_labels = np.argmax(predictions, axis=1)\n",
        "predicted_labels.shape"
      ],
      "execution_count": 62,
      "outputs": [
        {
          "output_type": "execute_result",
          "data": {
            "text/plain": [
              "(10000,)"
            ]
          },
          "metadata": {
            "tags": []
          },
          "execution_count": 62
        }
      ]
    },
    {
      "metadata": {
        "id": "Bof5od0YnZX9",
        "colab_type": "code",
        "outputId": "9dcbf0c1-3fdc-4ce9-c624-a7f4554d6981",
        "colab": {
          "base_uri": "https://localhost:8080/",
          "height": 35
        }
      },
      "cell_type": "code",
      "source": [
        "predicted_labels[:10]"
      ],
      "execution_count": 63,
      "outputs": [
        {
          "output_type": "execute_result",
          "data": {
            "text/plain": [
              "array([9, 2, 1, 1, 6, 1, 4, 6, 5, 7])"
            ]
          },
          "metadata": {
            "tags": []
          },
          "execution_count": 63
        }
      ]
    },
    {
      "metadata": {
        "id": "ObcGIOM_n8rn",
        "colab_type": "code",
        "outputId": "376d7b62-ee55-4558-ef42-f0fa68a2b72a",
        "colab": {
          "base_uri": "https://localhost:8080/",
          "height": 35
        }
      },
      "cell_type": "code",
      "source": [
        "y_test[:10]"
      ],
      "execution_count": 64,
      "outputs": [
        {
          "output_type": "execute_result",
          "data": {
            "text/plain": [
              "array([9, 2, 1, 1, 6, 1, 4, 6, 5, 7], dtype=uint8)"
            ]
          },
          "metadata": {
            "tags": []
          },
          "execution_count": 64
        }
      ]
    },
    {
      "metadata": {
        "id": "CDMtlyAAoBYs",
        "colab_type": "code",
        "colab": {}
      },
      "cell_type": "code",
      "source": [
        ""
      ],
      "execution_count": 0,
      "outputs": []
    }
  ]
}
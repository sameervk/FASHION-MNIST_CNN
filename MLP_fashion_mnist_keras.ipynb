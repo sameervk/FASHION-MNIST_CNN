{
  "nbformat": 4,
  "nbformat_minor": 0,
  "metadata": {
    "colab": {
      "name": "fashion-mnist-keras.ipynb",
      "version": "0.3.2",
      "provenance": []
    },
    "kernelspec": {
      "name": "python3",
      "display_name": "Python 3"
    },
    "accelerator": "GPU"
  },
  "cells": [
    {
      "metadata": {
        "id": "yvx9D2vou3nL",
        "colab_type": "text"
      },
      "cell_type": "markdown",
      "source": [
        "## MLP model for Fashion MNIST dataset using Keras\n",
        "        * Author: @Sameer Kesava\n",
        "                         \n",
        "                         * Just one  hidden layer with 128 units and tf.nn.relu activation function\n",
        "                         \n",
        "                         * Batch size = 64\n",
        "                         \n",
        "                         * Adam Optimizer and default learning rate\n",
        "                         \n",
        "                         * Training accuracy: 95.1% \n",
        "                         \n",
        "                         * Test accuracy 88.6% indicating overfitting of training data\n",
        "    "
      ]
    },
    {
      "metadata": {
        "id": "sj_wDOGPXI3W",
        "colab_type": "code",
        "colab": {
          "base_uri": "https://localhost:8080/",
          "height": 141
        },
        "outputId": "b8247956-c33b-4f81-aeeb-7c624ccec708"
      },
      "cell_type": "code",
      "source": [
        "from __future__ import division, print_function\n",
        "\n",
        "import tensorflow_datasets as tfds\n",
        "import tensorflow as tf"
      ],
      "execution_count": 1,
      "outputs": [
        {
          "output_type": "stream",
          "text": [
            "\n",
            "WARNING: The TensorFlow contrib module will not be included in TensorFlow 2.0.\n",
            "For more information, please see:\n",
            "  * https://github.com/tensorflow/community/blob/master/rfcs/20180907-contrib-sunset.md\n",
            "  * https://github.com/tensorflow/addons\n",
            "If you depend on functionality not listed there, please file an issue.\n",
            "\n"
          ],
          "name": "stdout"
        }
      ]
    },
    {
      "metadata": {
        "id": "FunOyl7fXu65",
        "colab_type": "code",
        "colab": {}
      },
      "cell_type": "code",
      "source": [
        "tf.logging.set_verbosity(tf.logging.ERROR)"
      ],
      "execution_count": 0,
      "outputs": []
    },
    {
      "metadata": {
        "id": "F_Wx2kYGYBMA",
        "colab_type": "code",
        "colab": {}
      },
      "cell_type": "code",
      "source": [
        "from tensorflow.keras.datasets import fashion_mnist"
      ],
      "execution_count": 0,
      "outputs": []
    },
    {
      "metadata": {
        "id": "BaYTe185YS_S",
        "colab_type": "code",
        "colab": {
          "base_uri": "https://localhost:8080/",
          "height": 158
        },
        "outputId": "cdf3c674-df4f-41f6-e449-b6bcd6bbbb6a"
      },
      "cell_type": "code",
      "source": [
        "dataset = fashion_mnist.load_data()"
      ],
      "execution_count": 4,
      "outputs": [
        {
          "output_type": "stream",
          "text": [
            "Downloading data from https://storage.googleapis.com/tensorflow/tf-keras-datasets/train-labels-idx1-ubyte.gz\n",
            "32768/29515 [=================================] - 0s 0us/step\n",
            "Downloading data from https://storage.googleapis.com/tensorflow/tf-keras-datasets/train-images-idx3-ubyte.gz\n",
            "26427392/26421880 [==============================] - 0s 0us/step\n",
            "Downloading data from https://storage.googleapis.com/tensorflow/tf-keras-datasets/t10k-labels-idx1-ubyte.gz\n",
            "8192/5148 [===============================================] - 0s 0us/step\n",
            "Downloading data from https://storage.googleapis.com/tensorflow/tf-keras-datasets/t10k-images-idx3-ubyte.gz\n",
            "4423680/4422102 [==============================] - 0s 0us/step\n"
          ],
          "name": "stdout"
        }
      ]
    },
    {
      "metadata": {
        "id": "Lr05UcSnYXtq",
        "colab_type": "code",
        "colab": {
          "base_uri": "https://localhost:8080/",
          "height": 35
        },
        "outputId": "8d886b29-9765-44c5-d2ae-2e4a4ceb5622"
      },
      "cell_type": "code",
      "source": [
        "len(dataset)"
      ],
      "execution_count": 6,
      "outputs": [
        {
          "output_type": "execute_result",
          "data": {
            "text/plain": [
              "2"
            ]
          },
          "metadata": {
            "tags": []
          },
          "execution_count": 6
        }
      ]
    },
    {
      "metadata": {
        "id": "ob-5obDYYar6",
        "colab_type": "code",
        "colab": {
          "base_uri": "https://localhost:8080/",
          "height": 35
        },
        "outputId": "d9f2ea8d-d6d6-4cd8-e16f-308a91d686b9"
      },
      "cell_type": "code",
      "source": [
        "len(dataset[0])"
      ],
      "execution_count": 7,
      "outputs": [
        {
          "output_type": "execute_result",
          "data": {
            "text/plain": [
              "2"
            ]
          },
          "metadata": {
            "tags": []
          },
          "execution_count": 7
        }
      ]
    },
    {
      "metadata": {
        "id": "xPLJTD3vYiHb",
        "colab_type": "code",
        "colab": {
          "base_uri": "https://localhost:8080/",
          "height": 35
        },
        "outputId": "33c2f2a0-1927-4cbb-9809-e4c3d11c474e"
      },
      "cell_type": "code",
      "source": [
        "len(dataset[0][0])"
      ],
      "execution_count": 8,
      "outputs": [
        {
          "output_type": "execute_result",
          "data": {
            "text/plain": [
              "60000"
            ]
          },
          "metadata": {
            "tags": []
          },
          "execution_count": 8
        }
      ]
    },
    {
      "metadata": {
        "id": "aGCmBubVYkhD",
        "colab_type": "code",
        "colab": {
          "base_uri": "https://localhost:8080/",
          "height": 35
        },
        "outputId": "d4df0e19-44e1-48b5-9379-5ca1efdaf57a"
      },
      "cell_type": "code",
      "source": [
        "x_train = dataset[0][0]\n",
        "y_train = dataset[0][1]\n",
        "print(x_train.shape, y_train.shape)"
      ],
      "execution_count": 9,
      "outputs": [
        {
          "output_type": "stream",
          "text": [
            "(60000, 28, 28) (60000,)\n"
          ],
          "name": "stdout"
        }
      ]
    },
    {
      "metadata": {
        "id": "KHEhCYuoYs1v",
        "colab_type": "code",
        "colab": {
          "base_uri": "https://localhost:8080/",
          "height": 35
        },
        "outputId": "0f35014b-5a54-4032-f946-1cc3cc2d2700"
      },
      "cell_type": "code",
      "source": [
        "x_test = dataset[1][0]\n",
        "y_test = dataset[1][1]\n",
        "print(x_test.shape, y_test.shape)"
      ],
      "execution_count": 10,
      "outputs": [
        {
          "output_type": "stream",
          "text": [
            "(10000, 28, 28) (10000,)\n"
          ],
          "name": "stdout"
        }
      ]
    },
    {
      "metadata": {
        "id": "z05jfz0EY2Sf",
        "colab_type": "code",
        "colab": {}
      },
      "cell_type": "code",
      "source": [
        ""
      ],
      "execution_count": 0,
      "outputs": []
    },
    {
      "metadata": {
        "id": "BmvG6wzzZkEo",
        "colab_type": "text"
      },
      "cell_type": "markdown",
      "source": [
        "Scaling"
      ]
    },
    {
      "metadata": {
        "id": "cIaitnmUZxCw",
        "colab_type": "code",
        "colab": {}
      },
      "cell_type": "code",
      "source": [
        "import numpy as np"
      ],
      "execution_count": 0,
      "outputs": []
    },
    {
      "metadata": {
        "id": "ERrvd0DbZk84",
        "colab_type": "code",
        "colab": {
          "base_uri": "https://localhost:8080/",
          "height": 35
        },
        "outputId": "10f62bc7-da93-4f39-a641-a9b117f11a32"
      },
      "cell_type": "code",
      "source": [
        "mean_pix = np.mean(x_train)\n",
        "mean_pix"
      ],
      "execution_count": 13,
      "outputs": [
        {
          "output_type": "execute_result",
          "data": {
            "text/plain": [
              "72.94035223214286"
            ]
          },
          "metadata": {
            "tags": []
          },
          "execution_count": 13
        }
      ]
    },
    {
      "metadata": {
        "id": "p8-v1dVdZvpJ",
        "colab_type": "code",
        "colab": {
          "base_uri": "https://localhost:8080/",
          "height": 35
        },
        "outputId": "104d5caa-720f-4229-b247-8574b12a5844"
      },
      "cell_type": "code",
      "source": [
        "std_pix = np.std(x_train)\n",
        "std_pix"
      ],
      "execution_count": 14,
      "outputs": [
        {
          "output_type": "execute_result",
          "data": {
            "text/plain": [
              "90.02118235130519"
            ]
          },
          "metadata": {
            "tags": []
          },
          "execution_count": 14
        }
      ]
    },
    {
      "metadata": {
        "id": "HKNlowt2Z5Xi",
        "colab_type": "code",
        "colab": {
          "base_uri": "https://localhost:8080/",
          "height": 35
        },
        "outputId": "79a369de-8610-404a-d8cb-b1ecb67f7cca"
      },
      "cell_type": "code",
      "source": [
        "x_train = x_train.reshape(-1, 784)\n",
        "x_train.shape"
      ],
      "execution_count": 15,
      "outputs": [
        {
          "output_type": "execute_result",
          "data": {
            "text/plain": [
              "(60000, 784)"
            ]
          },
          "metadata": {
            "tags": []
          },
          "execution_count": 15
        }
      ]
    },
    {
      "metadata": {
        "id": "XqvTrVZhbTkW",
        "colab_type": "code",
        "colab": {
          "base_uri": "https://localhost:8080/",
          "height": 35
        },
        "outputId": "c8f4b47d-40ef-4ccc-ac5e-f9fe008f1c78"
      },
      "cell_type": "code",
      "source": [
        "x_test = x_test.reshape(-1, 784)\n",
        "x_test.shape"
      ],
      "execution_count": 19,
      "outputs": [
        {
          "output_type": "execute_result",
          "data": {
            "text/plain": [
              "(10000, 784)"
            ]
          },
          "metadata": {
            "tags": []
          },
          "execution_count": 19
        }
      ]
    },
    {
      "metadata": {
        "id": "_4xI4wEraUA9",
        "colab_type": "code",
        "colab": {
          "base_uri": "https://localhost:8080/",
          "height": 35
        },
        "outputId": "ef7fea5b-f7ad-4fc3-e5ef-5c2f6d43d63f"
      },
      "cell_type": "code",
      "source": [
        "mean_pix = np.mean(x_train, axis = 0)\n",
        "mean_pix.shape"
      ],
      "execution_count": 17,
      "outputs": [
        {
          "output_type": "execute_result",
          "data": {
            "text/plain": [
              "(784,)"
            ]
          },
          "metadata": {
            "tags": []
          },
          "execution_count": 17
        }
      ]
    },
    {
      "metadata": {
        "id": "yVEM4V-EaeI2",
        "colab_type": "code",
        "colab": {
          "base_uri": "https://localhost:8080/",
          "height": 35
        },
        "outputId": "86724530-f8d7-4a2c-d78c-a7bb13a22add"
      },
      "cell_type": "code",
      "source": [
        "std_pix_col = np.std(x_train, axis = 0)\n",
        "print(np.min(std_pix_col))"
      ],
      "execution_count": 18,
      "outputs": [
        {
          "output_type": "stream",
          "text": [
            "0.09255283175929792\n"
          ],
          "name": "stdout"
        }
      ]
    },
    {
      "metadata": {
        "id": "NKwvkliFbD7J",
        "colab_type": "code",
        "colab": {}
      },
      "cell_type": "code",
      "source": [
        "x_train_scaled =  (x_train - mean_pix)/std_pix\n",
        "x_test_scaled = (x_test - mean_pix)/std_pix"
      ],
      "execution_count": 0,
      "outputs": []
    },
    {
      "metadata": {
        "id": "lfnu4wrxbZjD",
        "colab_type": "code",
        "colab": {
          "base_uri": "https://localhost:8080/",
          "height": 35
        },
        "outputId": "b008d8a2-7691-4144-fb00-9444722744d3"
      },
      "cell_type": "code",
      "source": [
        "print('min and max scaled values: {} {}'.format(np.min(x_train_scaled),np.max(x_train_scaled)))"
      ],
      "execution_count": 25,
      "outputs": [
        {
          "output_type": "stream",
          "text": [
            "min and max scaled values: -1.7982032573357591 2.8317651839451097\n"
          ],
          "name": "stdout"
        }
      ]
    },
    {
      "metadata": {
        "id": "4Dn_nQSpbloc",
        "colab_type": "code",
        "colab": {
          "base_uri": "https://localhost:8080/",
          "height": 35
        },
        "outputId": "16673537-a43c-47ad-f204-56ea76e22ad9"
      },
      "cell_type": "code",
      "source": [
        "y_unique = np.unique(y_train)\n",
        "y_unique"
      ],
      "execution_count": 26,
      "outputs": [
        {
          "output_type": "execute_result",
          "data": {
            "text/plain": [
              "array([0, 1, 2, 3, 4, 5, 6, 7, 8, 9], dtype=uint8)"
            ]
          },
          "metadata": {
            "tags": []
          },
          "execution_count": 26
        }
      ]
    },
    {
      "metadata": {
        "id": "uFaVFy_WcFdn",
        "colab_type": "code",
        "colab": {}
      },
      "cell_type": "code",
      "source": [
        ""
      ],
      "execution_count": 0,
      "outputs": []
    },
    {
      "metadata": {
        "id": "sinhc_HxcvOI",
        "colab_type": "text"
      },
      "cell_type": "markdown",
      "source": [
        "One-hot encoding y values"
      ]
    },
    {
      "metadata": {
        "id": "9RJEiNE9cuO1",
        "colab_type": "code",
        "colab": {}
      },
      "cell_type": "code",
      "source": [
        "from keras.utils import to_categorical"
      ],
      "execution_count": 0,
      "outputs": []
    },
    {
      "metadata": {
        "id": "CRBPyhL2gCy8",
        "colab_type": "code",
        "colab": {
          "base_uri": "https://localhost:8080/",
          "height": 35
        },
        "outputId": "6f608d95-69ca-4ea2-bb27-e37fa10994fb"
      },
      "cell_type": "code",
      "source": [
        "y_onehot = to_categorical(y_train)\n",
        "y_onehot.shape"
      ],
      "execution_count": 28,
      "outputs": [
        {
          "output_type": "execute_result",
          "data": {
            "text/plain": [
              "(60000, 10)"
            ]
          },
          "metadata": {
            "tags": []
          },
          "execution_count": 28
        }
      ]
    },
    {
      "metadata": {
        "id": "BEksHOeYl_rW",
        "colab_type": "code",
        "colab": {
          "base_uri": "https://localhost:8080/",
          "height": 35
        },
        "outputId": "28d05777-373e-4418-9d92-ad41dfbc2961"
      },
      "cell_type": "code",
      "source": [
        "y_test_onehot = to_categorical(y_test)\n",
        "y_test_onehot.shape"
      ],
      "execution_count": 61,
      "outputs": [
        {
          "output_type": "execute_result",
          "data": {
            "text/plain": [
              "(10000, 10)"
            ]
          },
          "metadata": {
            "tags": []
          },
          "execution_count": 61
        }
      ]
    },
    {
      "metadata": {
        "id": "sdOwUr_-cMlm",
        "colab_type": "text"
      },
      "cell_type": "markdown",
      "source": [
        "Creating a validation dataset. Can shuffle before splitting"
      ]
    },
    {
      "metadata": {
        "id": "JjJcknNscOEg",
        "colab_type": "code",
        "colab": {}
      },
      "cell_type": "code",
      "source": [
        "x_valid_scaled, x_train_scaled = x_train_scaled[:10000], x_train_scaled[10000:]\n",
        "y_valid_onehot, y_train_onehot = y_onehot[:10000], y_onehot[10000:]"
      ],
      "execution_count": 0,
      "outputs": []
    },
    {
      "metadata": {
        "id": "u8T-Qy5HgXNG",
        "colab_type": "code",
        "colab": {
          "base_uri": "https://localhost:8080/",
          "height": 35
        },
        "outputId": "ab809065-80cf-4d70-c498-ff8a301b2ffc"
      },
      "cell_type": "code",
      "source": [
        "y_train_onehot.shape"
      ],
      "execution_count": 30,
      "outputs": [
        {
          "output_type": "execute_result",
          "data": {
            "text/plain": [
              "(50000, 10)"
            ]
          },
          "metadata": {
            "tags": []
          },
          "execution_count": 30
        }
      ]
    },
    {
      "metadata": {
        "id": "7AyVKHujgZh_",
        "colab_type": "code",
        "colab": {
          "base_uri": "https://localhost:8080/",
          "height": 35
        },
        "outputId": "7bafa099-280e-4a01-d476-0448c79bca20"
      },
      "cell_type": "code",
      "source": [
        "x_train_scaled.shape"
      ],
      "execution_count": 46,
      "outputs": [
        {
          "output_type": "execute_result",
          "data": {
            "text/plain": [
              "(50000, 784)"
            ]
          },
          "metadata": {
            "tags": []
          },
          "execution_count": 46
        }
      ]
    },
    {
      "metadata": {
        "id": "J1IqNqNUgc1c",
        "colab_type": "text"
      },
      "cell_type": "markdown",
      "source": [
        "Building a NN"
      ]
    },
    {
      "metadata": {
        "id": "b2VTBb3rlzYc",
        "colab_type": "code",
        "colab": {}
      },
      "cell_type": "code",
      "source": [
        ""
      ],
      "execution_count": 0,
      "outputs": []
    },
    {
      "metadata": {
        "id": "cPEoQWV2giM3",
        "colab_type": "code",
        "colab": {}
      },
      "cell_type": "code",
      "source": [
        "model = tf.keras.Sequential()"
      ],
      "execution_count": 0,
      "outputs": []
    },
    {
      "metadata": {
        "id": "cmEscdfph093",
        "colab_type": "code",
        "colab": {}
      },
      "cell_type": "code",
      "source": [
        "batch_size = 64"
      ],
      "execution_count": 0,
      "outputs": []
    },
    {
      "metadata": {
        "id": "ccHS_Z7sgzmH",
        "colab_type": "code",
        "colab": {}
      },
      "cell_type": "code",
      "source": [
        "model.add(tf.keras.layers.Dense(units = 128, input_shape = [784], activation=tf.nn.relu))"
      ],
      "execution_count": 0,
      "outputs": []
    },
    {
      "metadata": {
        "id": "61DouNsChuIa",
        "colab_type": "code",
        "colab": {}
      },
      "cell_type": "code",
      "source": [
        "model.add(tf.keras.layers.Dense(units = 10, activation=tf.nn.softmax))"
      ],
      "execution_count": 0,
      "outputs": []
    },
    {
      "metadata": {
        "id": "l77N1VBUiVcT",
        "colab_type": "code",
        "colab": {}
      },
      "cell_type": "code",
      "source": [
        "model.compile(optimizer = 'adam', loss = 'mean_squared_error', metrics = ['accuracy'])"
      ],
      "execution_count": 0,
      "outputs": []
    },
    {
      "metadata": {
        "id": "uRtov6T0io28",
        "colab_type": "code",
        "colab": {
          "base_uri": "https://localhost:8080/",
          "height": 760
        },
        "outputId": "5b67c000-7211-4422-c5f1-9bab1992def6"
      },
      "cell_type": "code",
      "source": [
        "model.fit(x = x_train_scaled, y = y_train_onehot, validation_data=(x_valid_scaled, y_valid_onehot), batch_size=batch_size,\n",
        "         epochs = 20, verbose = 1, shuffle=True)"
      ],
      "execution_count": 60,
      "outputs": [
        {
          "output_type": "stream",
          "text": [
            "Train on 50000 samples, validate on 10000 samples\n",
            "Epoch 1/20\n",
            "50000/50000 [==============================] - 3s 70us/sample - loss: 0.0239 - acc: 0.8345 - val_loss: 0.0200 - val_acc: 0.8616\n",
            "Epoch 2/20\n",
            "50000/50000 [==============================] - 3s 69us/sample - loss: 0.0185 - acc: 0.8729 - val_loss: 0.0187 - val_acc: 0.8714\n",
            "Epoch 3/20\n",
            "50000/50000 [==============================] - 3s 69us/sample - loss: 0.0167 - acc: 0.8873 - val_loss: 0.0182 - val_acc: 0.8771\n",
            "Epoch 4/20\n",
            "50000/50000 [==============================] - 3s 69us/sample - loss: 0.0153 - acc: 0.8980 - val_loss: 0.0175 - val_acc: 0.8839\n",
            "Epoch 5/20\n",
            "50000/50000 [==============================] - 3s 69us/sample - loss: 0.0145 - acc: 0.9034 - val_loss: 0.0177 - val_acc: 0.8803\n",
            "Epoch 6/20\n",
            "50000/50000 [==============================] - 3s 68us/sample - loss: 0.0138 - acc: 0.9093 - val_loss: 0.0173 - val_acc: 0.8822\n",
            "Epoch 7/20\n",
            "50000/50000 [==============================] - 3s 69us/sample - loss: 0.0130 - acc: 0.9140 - val_loss: 0.0165 - val_acc: 0.8896\n",
            "Epoch 8/20\n",
            "50000/50000 [==============================] - 3s 68us/sample - loss: 0.0123 - acc: 0.9195 - val_loss: 0.0173 - val_acc: 0.8820\n",
            "Epoch 9/20\n",
            "50000/50000 [==============================] - 3s 68us/sample - loss: 0.0117 - acc: 0.9234 - val_loss: 0.0165 - val_acc: 0.8914\n",
            "Epoch 10/20\n",
            "50000/50000 [==============================] - 3s 69us/sample - loss: 0.0111 - acc: 0.9278 - val_loss: 0.0173 - val_acc: 0.8862\n",
            "Epoch 11/20\n",
            "50000/50000 [==============================] - 3s 68us/sample - loss: 0.0109 - acc: 0.9309 - val_loss: 0.0176 - val_acc: 0.8873\n",
            "Epoch 12/20\n",
            "50000/50000 [==============================] - 3s 69us/sample - loss: 0.0103 - acc: 0.9348 - val_loss: 0.0165 - val_acc: 0.8923\n",
            "Epoch 13/20\n",
            "50000/50000 [==============================] - 3s 69us/sample - loss: 0.0101 - acc: 0.9356 - val_loss: 0.0171 - val_acc: 0.8888\n",
            "Epoch 14/20\n",
            "50000/50000 [==============================] - 3s 69us/sample - loss: 0.0095 - acc: 0.9397 - val_loss: 0.0174 - val_acc: 0.8894\n",
            "Epoch 15/20\n",
            "50000/50000 [==============================] - 3s 68us/sample - loss: 0.0093 - acc: 0.9418 - val_loss: 0.0165 - val_acc: 0.8940\n",
            "Epoch 16/20\n",
            "50000/50000 [==============================] - 3s 69us/sample - loss: 0.0089 - acc: 0.9446 - val_loss: 0.0173 - val_acc: 0.8884\n",
            "Epoch 17/20\n",
            "50000/50000 [==============================] - 3s 69us/sample - loss: 0.0088 - acc: 0.9449 - val_loss: 0.0175 - val_acc: 0.8902\n",
            "Epoch 18/20\n",
            "50000/50000 [==============================] - 3s 69us/sample - loss: 0.0085 - acc: 0.9476 - val_loss: 0.0179 - val_acc: 0.8856\n",
            "Epoch 19/20\n",
            "50000/50000 [==============================] - 4s 71us/sample - loss: 0.0083 - acc: 0.9495 - val_loss: 0.0179 - val_acc: 0.8873\n",
            "Epoch 20/20\n",
            "50000/50000 [==============================] - 3s 70us/sample - loss: 0.0079 - acc: 0.9514 - val_loss: 0.0170 - val_acc: 0.8936\n"
          ],
          "name": "stdout"
        },
        {
          "output_type": "execute_result",
          "data": {
            "text/plain": [
              "<tensorflow.python.keras.callbacks.History at 0x7f2e517c6ba8>"
            ]
          },
          "metadata": {
            "tags": []
          },
          "execution_count": 60
        }
      ]
    },
    {
      "metadata": {
        "id": "_FuGNl__oPXj",
        "colab_type": "code",
        "colab": {}
      },
      "cell_type": "code",
      "source": [
        ""
      ],
      "execution_count": 0,
      "outputs": []
    },
    {
      "metadata": {
        "id": "8EtE7kgWoJiI",
        "colab_type": "text"
      },
      "cell_type": "markdown",
      "source": [
        "Testing on test data"
      ]
    },
    {
      "metadata": {
        "id": "9LnJayb4juqP",
        "colab_type": "code",
        "colab": {
          "base_uri": "https://localhost:8080/",
          "height": 52
        },
        "outputId": "90d03888-34db-4e7b-f3c9-af740bc91eb4"
      },
      "cell_type": "code",
      "source": [
        "test_loss, test_accuracy =  model.evaluate(x = x_test_scaled, y = y_test_onehot, batch_size=batch_size)\n",
        "print(test_loss, test_accuracy)"
      ],
      "execution_count": 63,
      "outputs": [
        {
          "output_type": "stream",
          "text": [
            "10000/10000 [==============================] - 0s 37us/sample - loss: 0.0182 - acc: 0.8862\n",
            "0.018156316655874253 0.8862\n"
          ],
          "name": "stdout"
        }
      ]
    },
    {
      "metadata": {
        "id": "5BZNkcOKmcFP",
        "colab_type": "code",
        "colab": {
          "base_uri": "https://localhost:8080/",
          "height": 35
        },
        "outputId": "6b05998f-0766-4469-f14d-896cfa8279e3"
      },
      "cell_type": "code",
      "source": [
        "predictions =  model.predict(x = x_test_scaled)\n",
        "predictions.shape"
      ],
      "execution_count": 64,
      "outputs": [
        {
          "output_type": "execute_result",
          "data": {
            "text/plain": [
              "(10000, 10)"
            ]
          },
          "metadata": {
            "tags": []
          },
          "execution_count": 64
        }
      ]
    },
    {
      "metadata": {
        "id": "jeCqT5yYnVoN",
        "colab_type": "code",
        "colab": {
          "base_uri": "https://localhost:8080/",
          "height": 35
        },
        "outputId": "6065ac0e-c4f2-4476-fdc9-27c166e35983"
      },
      "cell_type": "code",
      "source": [
        "predicted_labels = np.argmax(predictions, axis=1)\n",
        "predicted_labels.shape"
      ],
      "execution_count": 67,
      "outputs": [
        {
          "output_type": "execute_result",
          "data": {
            "text/plain": [
              "(10000,)"
            ]
          },
          "metadata": {
            "tags": []
          },
          "execution_count": 67
        }
      ]
    },
    {
      "metadata": {
        "id": "Bof5od0YnZX9",
        "colab_type": "code",
        "colab": {
          "base_uri": "https://localhost:8080/",
          "height": 35
        },
        "outputId": "99682689-4b8d-4f12-bd2c-52e45537b5a3"
      },
      "cell_type": "code",
      "source": [
        "predicted_labels[:10]"
      ],
      "execution_count": 68,
      "outputs": [
        {
          "output_type": "execute_result",
          "data": {
            "text/plain": [
              "array([9, 2, 1, 1, 6, 1, 4, 6, 5, 7])"
            ]
          },
          "metadata": {
            "tags": []
          },
          "execution_count": 68
        }
      ]
    },
    {
      "metadata": {
        "id": "ObcGIOM_n8rn",
        "colab_type": "code",
        "colab": {
          "base_uri": "https://localhost:8080/",
          "height": 35
        },
        "outputId": "cbdf1b21-671b-4f5b-a0b8-543fb0cec252"
      },
      "cell_type": "code",
      "source": [
        "y_test[:10]"
      ],
      "execution_count": 69,
      "outputs": [
        {
          "output_type": "execute_result",
          "data": {
            "text/plain": [
              "array([9, 2, 1, 1, 6, 1, 4, 6, 5, 7], dtype=uint8)"
            ]
          },
          "metadata": {
            "tags": []
          },
          "execution_count": 69
        }
      ]
    },
    {
      "metadata": {
        "id": "CDMtlyAAoBYs",
        "colab_type": "code",
        "colab": {}
      },
      "cell_type": "code",
      "source": [
        ""
      ],
      "execution_count": 0,
      "outputs": []
    }
  ]
}